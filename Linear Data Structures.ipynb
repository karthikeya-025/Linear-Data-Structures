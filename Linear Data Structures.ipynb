{
 "cells": [
  {
   "cell_type": "code",
   "execution_count": 171,
   "id": "391db133",
   "metadata": {},
   "outputs": [],
   "source": [
    "class Node:\n",
    "    def __init__(self,element=None,next_el=None):\n",
    "        self.element = element\n",
    "        self.next = next_el\n",
    "\n",
    "\n",
    "class LinkedList:\n",
    "    def __init__(self,head=None):\n",
    "            self.head = head\n",
    "            self.size =0\n",
    "\n",
    "    def add(self,el):\n",
    "        new_node = Node(el)\n",
    "        if self.head:\n",
    "            temp = self.head\n",
    "            while temp.next != None:\n",
    "                temp = temp.next\n",
    "            temp.next = new_node\n",
    "        else:\n",
    "            self.head = new_node\n",
    "        self.size+=1\n",
    "    def display(self,first = None):\n",
    "        self.first = first\n",
    "        first = self.head\n",
    "        while (first):\n",
    "            print(first.element,end=\" \")\n",
    "            first = first.next\n",
    "    def delete_el(self,el):\n",
    "        temp = self.head\n",
    "        while(temp!=None):\n",
    "            if temp.element == el:\n",
    "                prev.next = temp.next\n",
    "            prev = temp\n",
    "            temp = temp.next\n",
    "            self.size-=1"
   ]
  },
  {
   "cell_type": "markdown",
   "id": "4ed939e2",
   "metadata": {},
   "source": [
    "# Assignment-2: Linear Data Structures"
   ]
  },
  {
   "cell_type": "markdown",
   "id": "7cee1e17",
   "metadata": {},
   "source": [
    "## 1.Delete the elements in an linked list whose sum is equal to zero"
   ]
  },
  {
   "cell_type": "code",
   "execution_count": 172,
   "id": "7cc10d40",
   "metadata": {},
   "outputs": [],
   "source": [
    "linked_list = LinkedList()"
   ]
  },
  {
   "cell_type": "code",
   "execution_count": 173,
   "id": "2a10987a",
   "metadata": {},
   "outputs": [],
   "source": [
    "lis = [5,-5,6]\n",
    "for i in lis:\n",
    "    linked_list.add(i)"
   ]
  },
  {
   "cell_type": "code",
   "execution_count": 174,
   "id": "b113873f",
   "metadata": {},
   "outputs": [],
   "source": [
    "def linkSum_zero(head):\n",
    "    current_node = head\n",
    "    prev = None\n",
    "    sum = 0\n",
    "    while current_node is not None:\n",
    "        if sum == 0:\n",
    "            if prev is not None:\n",
    "                    prev.next = current_node.next\n",
    "            else:\n",
    "                head = current_node.next\n",
    "            current_node = current_node.next\n",
    "        else:\n",
    "            sum += current_node.element\n",
    "            prev = current_node\n",
    "            current_node = current_node.next\n",
    "            \n",
    "    current = head\n",
    "    while current is not None:\n",
    "        print(current.element)\n",
    "        current = current.next\n",
    "    return head\n",
    "                "
   ]
  },
  {
   "cell_type": "code",
   "execution_count": 175,
   "id": "433e0635",
   "metadata": {},
   "outputs": [],
   "source": [
    "linkSum_zero(linked_list.head)"
   ]
  },
  {
   "cell_type": "code",
   "execution_count": 176,
   "id": "1fba2292",
   "metadata": {},
   "outputs": [
    {
     "name": "stdout",
     "output_type": "stream",
     "text": [
      "5 -5 6 "
     ]
    }
   ],
   "source": [
    "linked_list.display()"
   ]
  },
  {
   "cell_type": "markdown",
   "id": "94af5fcb",
   "metadata": {},
   "source": [
    "## 2.Reverse a linked list in groups of given size"
   ]
  },
  {
   "cell_type": "code",
   "execution_count": 145,
   "id": "f271a0b0",
   "metadata": {},
   "outputs": [],
   "source": [
    "def reverse(head,k):\n",
    "    current = head\n",
    "    prev = None\n",
    "    next = None\n",
    "    reverse_head = None\n",
    "    while current is not None:\n",
    "        for i in range(k):\n",
    "            next = current.next\n",
    "            current.next = prev\n",
    "            prev = current\n",
    "            current = next\n",
    "        if reverse_head is None:\n",
    "            reverse_head = prev\n",
    "        else:\n",
    "            reverse_head.next = prev\n",
    "        k -= 1\n",
    "    current_node = reverse_head\n",
    "    while current_node is  not None:\n",
    "        print(current_node.element)\n",
    "        current_node = current_node.next\n",
    "    "
   ]
  },
  {
   "cell_type": "code",
   "execution_count": 104,
   "id": "38a55e3e",
   "metadata": {},
   "outputs": [
    {
     "name": "stdout",
     "output_type": "stream",
     "text": [
      "6\n",
      "-5\n",
      "5\n"
     ]
    }
   ],
   "source": [
    "reverse(linked_list.head,3)"
   ]
  },
  {
   "cell_type": "markdown",
   "id": "6db0b8b3",
   "metadata": {},
   "source": [
    "## 3.Merge a linked list into another linked list at alternate positions."
   ]
  },
  {
   "cell_type": "code",
   "execution_count": null,
   "id": "8650c3dc",
   "metadata": {},
   "outputs": [],
   "source": [
    "def merge_ll(l1_head,l2_head):\n",
    "    current = l1_head\n",
    "    other = l2_head\n",
    "    while current:\n",
    "        next_el = current.next\n",
    "        current.next= other\n",
    "        other = other.next\n",
    "        current = next_el\n",
    "    if other:\n",
    "        current.next = other\n",
    "    return head1"
   ]
  },
  {
   "cell_type": "markdown",
   "id": "3af0e48f",
   "metadata": {},
   "source": [
    "## 4.In an array, Count Pairs with given sum"
   ]
  },
  {
   "cell_type": "code",
   "execution_count": 152,
   "id": "a13f9881",
   "metadata": {},
   "outputs": [
    {
     "data": {
      "text/plain": [
       "4"
      ]
     },
     "execution_count": 152,
     "metadata": {},
     "output_type": "execute_result"
    }
   ],
   "source": [
    "a = [2,3,4,5,6,1,6]\n",
    "def pairSum(arr,sumNum):\n",
    "    Pairs = []\n",
    "    for i in range(len(arr)):\n",
    "        for j in range(i+1,len(arr)):\n",
    "            if arr[i]+arr[j] == sumNum:\n",
    "                Pairs.append((arr[i],arr[j]))\n",
    "    return len(Pairs)\n",
    "pairSum(a,7)\n",
    "        "
   ]
  },
  {
   "cell_type": "markdown",
   "id": "4b327be0",
   "metadata": {},
   "source": [
    "## 5.Find duplicates in an array"
   ]
  },
  {
   "cell_type": "code",
   "execution_count": 142,
   "id": "3a7e691e",
   "metadata": {},
   "outputs": [],
   "source": [
    "a = [1,2,3,4,1,2,1,5,6]\n",
    "def dups_in_arrays(arr):\n",
    "    dictionary = {}\n",
    "\n",
    "    for i in a:\n",
    "        if i in dictionary:\n",
    "            dictionary[i] +=1\n",
    "        else:\n",
    "            dictionary[i] =1\n",
    "\n",
    "    dupe_list = [i for i in dictionary if dictionary[i]>1]\n",
    "    dupe_list\n",
    "        \n"
   ]
  },
  {
   "cell_type": "markdown",
   "id": "c8a29f31",
   "metadata": {},
   "source": [
    "## 6.Find the Kth largest and Kth smallest number in an array"
   ]
  },
  {
   "cell_type": "code",
   "execution_count": 12,
   "id": "d539a718",
   "metadata": {},
   "outputs": [],
   "source": [
    "def find(arr,k):\n",
    "        arr.sort()\n",
    "        rev_arr = arr[::-1]\n",
    "        k_max,k_min = arr[k],rev_arr[k-1]\n",
    "      \n",
    "        return k_max,k_min\n",
    "    "
   ]
  },
  {
   "cell_type": "code",
   "execution_count": 13,
   "id": "e8a4ca6d",
   "metadata": {},
   "outputs": [
    {
     "data": {
      "text/plain": [
       "(7, 5)"
      ]
     },
     "execution_count": 13,
     "metadata": {},
     "output_type": "execute_result"
    }
   ],
   "source": [
    "find([7,8,5,3,2],3)"
   ]
  },
  {
   "cell_type": "markdown",
   "id": "fc358bc6",
   "metadata": {},
   "source": [
    "## 7.Move all the negative elements to one side of the array"
   ]
  },
  {
   "cell_type": "code",
   "execution_count": 23,
   "id": "67195327",
   "metadata": {},
   "outputs": [],
   "source": [
    "def move_elements(arr):\n",
    "    left = 0\n",
    "    right = len(arr)-1\n",
    "    while left<right:\n",
    "        if arr[left]<0 and arr[right]>=0:\n",
    "            arr[left],arr[right] = arr[right],arr[left]\n",
    "            left += 1\n",
    "            right -= 1\n",
    "        elif arr[left]>=0:\n",
    "            left += 1\n",
    "        else:\n",
    "            right -= 1\n",
    "    return arr\n"
   ]
  },
  {
   "cell_type": "code",
   "execution_count": 22,
   "id": "619bfe42",
   "metadata": {},
   "outputs": [
    {
     "name": "stdout",
     "output_type": "stream",
     "text": [
      "[1, 2, 6, 0, 3, 5, -4, -2, -1]\n"
     ]
    }
   ],
   "source": [
    "print(move_elements([1,2,-1,0,3,-2,-4,5,6]))\n"
   ]
  },
  {
   "cell_type": "markdown",
   "id": "0c2525ec",
   "metadata": {},
   "source": [
    "## 8.Reverse a string using a stack data structure"
   ]
  },
  {
   "cell_type": "code",
   "execution_count": 3,
   "id": "1f7f4af9",
   "metadata": {},
   "outputs": [],
   "source": [
    "def rev_string(string):\n",
    "    stack = []\n",
    "    rev_string = ''\n",
    "    for s in string:\n",
    "        stack.append(s)\n",
    "    while stack:\n",
    "        k = stack.pop()\n",
    "        rev_string += k\n",
    "    return rev_string"
   ]
  },
  {
   "cell_type": "code",
   "execution_count": 4,
   "id": "8ae818f2",
   "metadata": {},
   "outputs": [
    {
     "data": {
      "text/plain": [
       "'olleh'"
      ]
     },
     "execution_count": 4,
     "metadata": {},
     "output_type": "execute_result"
    }
   ],
   "source": [
    "rev_string('hello')"
   ]
  },
  {
   "cell_type": "markdown",
   "id": "c7617e3c",
   "metadata": {},
   "source": [
    "## 9.Evaluate a postfix expression using stack"
   ]
  },
  {
   "cell_type": "code",
   "execution_count": 52,
   "id": "a6e64b3e",
   "metadata": {},
   "outputs": [],
   "source": [
    "def eval_post(expr):\n",
    "    stack = []\n",
    "    for i in expr:\n",
    "        if i.isdigit():\n",
    "            stack.append(int(i))\n",
    "        else:\n",
    "            op2 = stack.pop()\n",
    "            op1 = stack.pop()\n",
    "            result =  eval(str(op1) + i +str(op2))\n",
    "            stack.append(result)\n",
    "    return stack.pop()"
   ]
  },
  {
   "cell_type": "code",
   "execution_count": 53,
   "id": "af25ce4a",
   "metadata": {},
   "outputs": [
    {
     "data": {
      "text/plain": [
       "14"
      ]
     },
     "execution_count": 53,
     "metadata": {},
     "output_type": "execute_result"
    }
   ],
   "source": [
    "eval_post('234+*')"
   ]
  },
  {
   "cell_type": "markdown",
   "id": "92061cc5",
   "metadata": {},
   "source": [
    "## 10.Implement a queue using the stack data structure"
   ]
  },
  {
   "cell_type": "code",
   "execution_count": 15,
   "id": "920bf287",
   "metadata": {},
   "outputs": [],
   "source": [
    "class Queue:\n",
    "    def __init__(self):\n",
    "        self.s1 = []\n",
    "        self.s2 = []\n",
    "    def enque(self,element):\n",
    "        self.s1.append(element)\n",
    "    def deque(self):\n",
    "        while self.s1:\n",
    "                self.s2.append(self.s1.pop())\n",
    "        return self.s2.pop()"
   ]
  },
  {
   "cell_type": "code",
   "execution_count": 16,
   "id": "3bf50d20",
   "metadata": {},
   "outputs": [],
   "source": [
    "q = Queue()"
   ]
  },
  {
   "cell_type": "code",
   "execution_count": 17,
   "id": "848d45ee",
   "metadata": {},
   "outputs": [],
   "source": [
    "q.enque(5)"
   ]
  },
  {
   "cell_type": "code",
   "execution_count": 18,
   "id": "0ee5502a",
   "metadata": {},
   "outputs": [],
   "source": [
    "q.enque(6)\n",
    "q.enque(7)\n",
    "q.enque(8)"
   ]
  },
  {
   "cell_type": "code",
   "execution_count": 19,
   "id": "1183803c",
   "metadata": {},
   "outputs": [
    {
     "data": {
      "text/plain": [
       "5"
      ]
     },
     "execution_count": 19,
     "metadata": {},
     "output_type": "execute_result"
    }
   ],
   "source": [
    "q.deque()"
   ]
  },
  {
   "cell_type": "code",
   "execution_count": 20,
   "id": "3147587b",
   "metadata": {},
   "outputs": [
    {
     "data": {
      "text/plain": [
       "6"
      ]
     },
     "execution_count": 20,
     "metadata": {},
     "output_type": "execute_result"
    }
   ],
   "source": [
    "q.deque()"
   ]
  },
  {
   "cell_type": "code",
   "execution_count": 21,
   "id": "751bb8ec",
   "metadata": {},
   "outputs": [
    {
     "data": {
      "text/plain": [
       "7"
      ]
     },
     "execution_count": 21,
     "metadata": {},
     "output_type": "execute_result"
    }
   ],
   "source": [
    "q.deque()"
   ]
  },
  {
   "cell_type": "code",
   "execution_count": 22,
   "id": "29015e6a",
   "metadata": {},
   "outputs": [
    {
     "data": {
      "text/plain": [
       "8"
      ]
     },
     "execution_count": 22,
     "metadata": {},
     "output_type": "execute_result"
    }
   ],
   "source": [
    "q.deque()"
   ]
  },
  {
   "cell_type": "code",
   "execution_count": null,
   "id": "3ac3a984",
   "metadata": {},
   "outputs": [],
   "source": []
  }
 ],
 "metadata": {
  "kernelspec": {
   "display_name": "Python 3 (ipykernel)",
   "language": "python",
   "name": "python3"
  },
  "language_info": {
   "codemirror_mode": {
    "name": "ipython",
    "version": 3
   },
   "file_extension": ".py",
   "mimetype": "text/x-python",
   "name": "python",
   "nbconvert_exporter": "python",
   "pygments_lexer": "ipython3",
   "version": "3.10.9"
  }
 },
 "nbformat": 4,
 "nbformat_minor": 5
}
